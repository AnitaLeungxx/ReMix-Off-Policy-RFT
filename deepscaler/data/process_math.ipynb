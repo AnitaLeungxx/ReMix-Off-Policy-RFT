{
 "cells": [
  {
   "cell_type": "code",
   "execution_count": 4,
   "metadata": {},
   "outputs": [
    {
     "name": "stdout",
     "output_type": "stream",
     "text": [
      "{'problem': 'Find the projection of $\\\\mathbf{a}$ onto $\\\\mathbf{b} = \\\\begin{pmatrix} 2 \\\\\\\\ 6 \\\\\\\\ 3 \\\\end{pmatrix}$ if $\\\\mathbf{a} \\\\cdot \\\\mathbf{b} = 8.$', 'answer': '\\\\begin{pmatrix} 16/49 \\\\\\\\ 48/49 \\\\\\\\ 24/49 \\\\end{pmatrix}', 'difficulty': 3.0, 'unique_id': 'test/precalculus/625.json'}\n"
     ]
    }
   ],
   "source": [
    "import json\n",
    "\n",
    "# 读取JSON文件\n",
    "with open('/home/ljy/code/o1r1/TinyZero-main/deepscaler/data/test/math.json', 'r', encoding='utf-8') as file:\n",
    "    data = json.load(file)\n",
    "\n",
    "# 检查数据是否有第351个元素\n",
    "if len(data) >= 351:\n",
    "    # 输出第351个数据的信息\n",
    "    print(data[420])  # 注意索引从0开始，所以第351个数据是索引350\n",
    "else:\n",
    "    print(\"JSON文件中的数据不足351个。\")"
   ]
  }
 ],
 "metadata": {
  "kernelspec": {
   "display_name": "zero",
   "language": "python",
   "name": "python3"
  },
  "language_info": {
   "codemirror_mode": {
    "name": "ipython",
    "version": 3
   },
   "file_extension": ".py",
   "mimetype": "text/x-python",
   "name": "python",
   "nbconvert_exporter": "python",
   "pygments_lexer": "ipython3",
   "version": "3.9.21"
  }
 },
 "nbformat": 4,
 "nbformat_minor": 2
}
